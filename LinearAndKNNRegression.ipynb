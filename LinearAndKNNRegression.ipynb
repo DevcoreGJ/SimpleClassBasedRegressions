{
  "nbformat": 4,
  "nbformat_minor": 0,
  "metadata": {
    "colab": {
      "provenance": []
    },
    "kernelspec": {
      "name": "python3",
      "display_name": "Python 3"
    },
    "language_info": {
      "name": "python"
    }
  },
  "cells": [
    {
      "cell_type": "code",
      "execution_count": 1,
      "metadata": {
        "id": "ZAGbRRvStYH0"
      },
      "outputs": [],
      "source": [
        "import numpy as np\n",
        "import pandas as pd\n",
        "import matplotlib.pyplot as plt"
      ]
    },
    {
      "cell_type": "markdown",
      "source": [
        "#continuous valued data"
      ],
      "metadata": {
        "id": "8JLquiSJteru"
      }
    },
    {
      "cell_type": "code",
      "source": [
        "class contValData():\n",
        "\n",
        "  def random_seed(rseed):\n",
        "    np.random.seed(rseed)\n",
        "\n",
        "  def create(self, dimensions, numOfObs, r=20):\n",
        "    self.X = np.linspace(0, r, numOfObs).reshape(numOfObs, dimensions)\n",
        "    self.y= np.sqrt(self.X)+np.exp(-(self.X-5)**2)-2*(np.exp(-(self.X-12.5)**2)+np.random.randn(numOfObs,1)*0.2)\n",
        "    return self.X, self.y\n",
        "\n",
        "  def show(self):\n",
        "    plt.figure()\n",
        "    plt.scatter(self.X, self.y)"
      ],
      "metadata": {
        "id": "1jqQQw4rtg4H"
      },
      "execution_count": 2,
      "outputs": []
    },
    {
      "cell_type": "code",
      "source": [
        "dat = contValData()"
      ],
      "metadata": {
        "id": "FDtH7w7Otd2H"
      },
      "execution_count": 3,
      "outputs": []
    },
    {
      "cell_type": "code",
      "source": [
        "X,y = dat.create(1,200)"
      ],
      "metadata": {
        "id": "-OVWHBgnv3FM"
      },
      "execution_count": 4,
      "outputs": []
    },
    {
      "cell_type": "code",
      "source": [
        "dat.show()"
      ],
      "metadata": {
        "colab": {
          "base_uri": "https://localhost:8080/",
          "height": 0
        },
        "id": "VL9aWO_Cv8Dr",
        "outputId": "5d43dbf9-a494-4396-a636-80b51c45454b"
      },
      "execution_count": 5,
      "outputs": [
        {
          "output_type": "display_data",
          "data": {
            "text/plain": [
              "<Figure size 432x288 with 1 Axes>"
            ],
            "image/png": "[encoded data removed]"
          },
          "metadata": {
            "needs_background": "light"
          }
        }
      ]
    },
    {
      "cell_type": "markdown",
      "source": [
        "##Create our own test set."
      ],
      "metadata": {
        "id": "VALtBBK4zyh7"
      }
    },
    {
      "cell_type": "code",
      "source": [
        "myDat=contValData()"
      ],
      "metadata": {
        "id": "tidL0bgwz3KW"
      },
      "execution_count": 6,
      "outputs": []
    },
    {
      "cell_type": "code",
      "source": [
        "X_test, y_test = myDat.create(1,30)\n",
        "myDat.show()"
      ],
      "metadata": {
        "colab": {
          "base_uri": "https://localhost:8080/",
          "height": 0
        },
        "id": "6_GSe5R5z1Ta",
        "outputId": "a7d752c3-d152-4388-87f9-d509144a237c"
      },
      "execution_count": 7,
      "outputs": [
        {
          "output_type": "display_data",
          "data": {
            "text/plain": [
              "<Figure size 432x288 with 1 Axes>"
            ],
            "image/png": "[encoded data removed]"
          },
          "metadata": {
            "needs_background": "light"
          }
        }
      ]
    },
    {
      "cell_type": "markdown",
      "source": [
        "#Simple linear regression"
      ],
      "metadata": {
        "id": "3bZCbCNh0avj"
      }
    },
    {
      "cell_type": "markdown",
      "source": [
        "##What makes it simple is that it is 1 x and 1 y"
      ],
      "metadata": {
        "id": "_Zn_gn_t0mF2"
      }
    },
    {
      "cell_type": "code",
      "source": [
        "class SimpleLinearReg():\n",
        "\n",
        "  def fit(self,X,y):\n",
        "    self.y = y\n",
        "    self.denominator = np.mean(X**2)-np.mean(X)**2\n",
        "    self.w0 = (np.mean(y)*np.mean(X**2)-np.mean(X)*np.mean(X*y))/self.denominator\n",
        "    self.w1 = (np.mean(X*y) - (np.mean(X)*np.mean(y)))/self.denominator\n",
        "\n",
        "  def predict(self, X, show =0):\n",
        "\n",
        "    y_hat = self.w1*X + self.w0 #y intersect\n",
        "\n",
        "    if show:\n",
        "      plt.figure()\n",
        "      plt.scatter(X, self.y, s=8)\n",
        "      # '#FF' RED IS IN HEXADECIMAL F*F = 255 #ff0070\n",
        "      plt.plot(X, y_hat, color = '#ff0070') \n",
        "    return y_hat"
      ],
      "metadata": {
        "id": "QB158_Euz2_z"
      },
      "execution_count": 8,
      "outputs": []
    },
    {
      "cell_type": "code",
      "source": [
        "slr = SimpleLinearReg()"
      ],
      "metadata": {
        "id": "0Zoa5tU13N1M"
      },
      "execution_count": 9,
      "outputs": []
    },
    {
      "cell_type": "code",
      "source": [
        "slr.fit(X,y)"
      ],
      "metadata": {
        "id": "esp_L8L13Vh2"
      },
      "execution_count": 10,
      "outputs": []
    },
    {
      "cell_type": "code",
      "source": [
        "y_hat=slr.predict(X, show = 1)"
      ],
      "metadata": {
        "colab": {
          "base_uri": "https://localhost:8080/",
          "height": 265
        },
        "id": "U8W42eeu3Yj7",
        "outputId": "afc93b53-aba4-4292-96f3-6265d79a4dc5"
      },
      "execution_count": 11,
      "outputs": [
        {
          "output_type": "display_data",
          "data": {
            "text/plain": [
              "<Figure size 432x288 with 1 Axes>"
            ],
            "image/png": "[encoded data removed]"
          },
          "metadata": {
            "needs_background": "light"
          }
        }
      ]
    },
    {
      "cell_type": "markdown",
      "source": [
        "##Engineer a column ( a target)"
      ],
      "metadata": {
        "id": "pet4m23_5PmE"
      }
    },
    {
      "cell_type": "code",
      "source": [
        "y2=y**2"
      ],
      "metadata": {
        "id": "89sj05F84MG9"
      },
      "execution_count": 12,
      "outputs": []
    },
    {
      "cell_type": "code",
      "source": [
        "linearReg1 = SimpleLinearReg()\n",
        "linearReg1.fit(X,y2)"
      ],
      "metadata": {
        "id": "Vn1zi1c85VaE"
      },
      "execution_count": 13,
      "outputs": []
    },
    {
      "cell_type": "markdown",
      "source": [
        "predict using a y_hat2"
      ],
      "metadata": {
        "id": "cpjd7Q-Y5ytu"
      }
    },
    {
      "cell_type": "code",
      "source": [
        "y_hat2=linearReg1.predict(X)"
      ],
      "metadata": {
        "id": "5BYvc_jh5yEW"
      },
      "execution_count": 14,
      "outputs": []
    },
    {
      "cell_type": "markdown",
      "source": [
        "###Plot **this** (remember it is the sqaure root), not the value you actually want."
      ],
      "metadata": {
        "id": "I-1t5eXe58gc"
      }
    },
    {
      "cell_type": "code",
      "source": [
        "plt.figure()\n",
        "plt.scatter(X,y,s=8)\n",
        "plt.plot(X, np.sqrt(y_hat2),color=\"#ff0070\")"
      ],
      "metadata": {
        "colab": {
          "base_uri": "https://localhost:8080/",
          "height": 282
        },
        "id": "U7hMY0-C57su",
        "outputId": "d638766f-181d-428a-b365-135268b03d3e"
      },
      "execution_count": 15,
      "outputs": [
        {
          "output_type": "execute_result",
          "data": {
            "text/plain": [
              "[<matplotlib.lines.Line2D at 0x7ffa9967f4f0>]"
            ]
          },
          "metadata": {},
          "execution_count": 15
        },
        {
          "output_type": "display_data",
          "data": {
            "text/plain": [
              "<Figure size 432x288 with 1 Axes>"
            ],
            "image/png": "[encoded data removed]"
          },
          "metadata": {
            "needs_background": "light"
          }
        }
      ]
    },
    {
      "cell_type": "code",
      "source": [
        "plt.figure()\n",
        "plt.scatter(X,y**2, s=8)\n",
        "plt.plot(X, y_hat2, color=\"#FF0070\")"
      ],
      "metadata": {
        "colab": {
          "base_uri": "https://localhost:8080/",
          "height": 282
        },
        "id": "Bun_UqZm69Ro",
        "outputId": "ada52990-c95e-4034-aede-7b9f75fc06d0"
      },
      "execution_count": 16,
      "outputs": [
        {
          "output_type": "execute_result",
          "data": {
            "text/plain": [
              "[<matplotlib.lines.Line2D at 0x7ffa995e9940>]"
            ]
          },
          "metadata": {},
          "execution_count": 16
        },
        {
          "output_type": "display_data",
          "data": {
            "text/plain": [
              "<Figure size 432x288 with 1 Axes>"
            ],
            "image/png": "[encoded data removed]"
          },
          "metadata": {
            "needs_background": "light"
          }
        }
      ]
    },
    {
      "cell_type": "markdown",
      "source": [
        "#Can KNN be used for regression?"
      ],
      "metadata": {
        "id": "5oz4RSRz63re"
      }
    },
    {
      "cell_type": "markdown",
      "source": [
        "#We are going to use a radius.\n",
        "\n"
      ],
      "metadata": {
        "id": "VCZdg0bC8IVv"
      }
    },
    {
      "cell_type": "markdown",
      "source": [
        "###Define a radius\n",
        "$radius(V_R) =\\vert\\vert x_{(k)} - x\\vert\\vert$\n",
        "\n",
        "**Create value gamma**\n",
        "$\\gamma_k = \\frac{1}{\\Vert\\X_{(k)}-x\\Vert + \\epsilon}$"
      ],
      "metadata": {
        "id": "aFi-c1Nd8RYg"
      }
    },
    {
      "cell_type": "code",
      "source": [
        "class KNNRegressor():\n",
        "  def fit(self, X,y):\n",
        "    self.X=X\n",
        "    self.y=y\n",
        "\n",
        "  def predict(self, X, K, epsilon = 1e-3): # epsilon prevents / 0\n",
        "    N = len(X) # numOfObs\n",
        "    y_hat = np.zeros(N) # Empty container for Observations\n",
        "\n",
        "    # look at every point and each related point to determine # f predictions\n",
        "    for i in range(N): # for each obeservation in the range of obvservations\n",
        "      dist2 = np.sum((self.X - X[i])**2, axis=1)\n",
        "      idxt = np.argsort(dist2)[:K]\n",
        "      gamma_K = np.exp(-dist2[idxt]) / np.exp(-dist2[idxt]).sum()\n",
        "      y_hat[i] = gamma_K.dot(self.y[idxt]) #take the dot product of that with self.y of Nearest Neighbour\n",
        "\n",
        "    return y_hat\n"
      ],
      "metadata": {
        "id": "ohbXHmMM8OQ_"
      },
      "execution_count": 45,
      "outputs": []
    },
    {
      "cell_type": "code",
      "source": [
        "knnr = KNNRegressor()"
      ],
      "metadata": {
        "id": "R69rkFPX_7G1"
      },
      "execution_count": 47,
      "outputs": []
    },
    {
      "cell_type": "code",
      "source": [
        "knnr.fit(X,y)"
      ],
      "metadata": {
        "id": "1NK03jMxACg0"
      },
      "execution_count": 48,
      "outputs": []
    },
    {
      "cell_type": "code",
      "source": [
        "y_hat = knnr.predict(X, 5)\n",
        "y_hat2 = knnr.predict(X, 40)\n",
        "y_hat3 = knnr.predict(X, 20)\n",
        "\n",
        "plt.figure()\n",
        "plt.scatter(X, y, s=8)\n",
        "plt.plot(X, y_hat, color=\"#FF0070\")\n",
        "plt.plot(X, y_hat2, color=\"#00ff00\")\n",
        "plt.plot(X, y_hat3, color=\"#0000FF\")"
      ],
      "metadata": {
        "colab": {
          "base_uri": "https://localhost:8080/",
          "height": 282
        },
        "id": "aATp2b1qAQO9",
        "outputId": "4f581d16-4296-4625-b012-8b8bd0b76bcb"
      },
      "execution_count": 51,
      "outputs": [
        {
          "output_type": "execute_result",
          "data": {
            "text/plain": [
              "[<matplotlib.lines.Line2D at 0x7ffa986df940>]"
            ]
          },
          "metadata": {},
          "execution_count": 51
        },
        {
          "output_type": "display_data",
          "data": {
            "text/plain": [
              "<Figure size 432x288 with 1 Axes>"
            ],
            "image/png": "[encoded data removed]"
          },
          "metadata": {
            "needs_background": "light"
          }
        }
      ]
    }
  ]
}